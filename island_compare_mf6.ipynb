{
 "cells": [
  {
   "cell_type": "code",
   "execution_count": 1,
   "id": "a7c306ab-4fae-4482-8738-bad86adf6c37",
   "metadata": {},
   "outputs": [],
   "source": [
    "import numpy as np\n",
    "import matplotlib.pyplot as plt\n",
    "plt.rcParams['figure.figsize'] = (4, 3)\n",
    "plt.rcParams['font.size'] = 8\n",
    "plt.rcParams[\"figure.autolayout\"] = True # same as tight_layout after every plot\n",
    "\n",
    "from pyswi import SwiModel"
   ]
  },
  {
   "cell_type": "code",
   "execution_count": 15,
   "id": "7b1244c7-ccfe-411d-9f47-349b7f316b4b",
   "metadata": {},
   "outputs": [],
   "source": [
    "# space discretization\n",
    "nlay = 1\n",
    "ncol = 21\n",
    "delx = 50\n",
    "# time discretization\n",
    "delt = 2000\n",
    "nstep = 40\n",
    "hfini = np.zeros(ncol)\n",
    "hsini = np.zeros(ncol)\n",
    "# boundary conditions\n",
    "hleft = 0\n",
    "hright = 0\n",
    "# aquifer\n",
    "k = 10 # horizontal hydraulic conductivity, m/d\n",
    "S = 0.2 # storage coefficient, -\n",
    "Se = 1e-4 # specific storage coef, m^(-1)\n",
    "zt = 0 # aquifer top, m\n",
    "zb = -40 # aquifer bottom, m\n",
    "rhof = 1000 # freshwater density, kg/m3\n",
    "rhos = 1025 # saltwater density, kg/m3\n",
    "# source\n",
    "N = 0.001\n",
    "Qf = [[0, icol, N * delx] for icol in np.arange(ncol)]\n",
    "# fixed\n",
    "fixed = [[0, 0, hleft], [0, ncol - 1, hright]]"
   ]
  },
  {
   "cell_type": "code",
   "execution_count": 16,
   "id": "d020e52d-1f68-4fa0-885d-e092c3f678e8",
   "metadata": {},
   "outputs": [
    {
     "name": "stdout",
     "output_type": "stream",
     "text": [
      "iterations: 6\n"
     ]
    }
   ],
   "source": [
    "ml = SwiModel(nlay, ncol, delx, xleftc=-1000)\n",
    "ml.tdis(nstep=1, delt=1, hfini=hfini, hsini=hsini)\n",
    "ml.aquifer(k, S=0, Se=0, zb=zb, zt=zt, rhof=rhof, rhos=rhos) # zero storage means instantaneous steady state\n",
    "ml.set_source(Qf)\n",
    "ml.set_fixed(fixed, fixed)\n",
    "hsol, zetasol = ml.simulate_freshonly()"
   ]
  },
  {
   "cell_type": "code",
   "execution_count": 17,
   "id": "6f475733-5574-409c-b15c-6d1680a0134b",
   "metadata": {},
   "outputs": [
    {
     "data": {
      "text/plain": [
       "array([[10.]])"
      ]
     },
     "execution_count": 17,
     "metadata": {},
     "output_type": "execute_result"
    }
   ],
   "source": [
    "ml.k"
   ]
  },
  {
   "cell_type": "code",
   "execution_count": 18,
   "id": "77ec7bc8-db82-4f2e-a8d4-19a215bb247c",
   "metadata": {},
   "outputs": [
    {
     "data": {
      "image/png": "[encoded data removed]",
      "text/plain": [
       "<Figure size 400x300 with 1 Axes>"
      ]
     },
     "metadata": {},
     "output_type": "display_data"
    }
   ],
   "source": [
    "plt.subplot(111)\n",
    "plt.plot(ml.xc, hsol[1, 0])\n",
    "plt.plot(ml.xc, zetasol[1, 0])\n",
    "plt.grid()"
   ]
  },
  {
   "cell_type": "code",
   "execution_count": 10,
   "id": "cff4a2d1-0146-4b3e-91e2-b842434d9dd0",
   "metadata": {},
   "outputs": [
    {
     "data": {
      "text/plain": [
       "array([  0.        , -13.96424004, -22.27100487, -28.42710197,\n",
       "       -33.37144836, -37.50430702, -41.03764792, -44.0989456 ,\n",
       "       -46.77151258, -49.11304914, -51.16522425, -52.95906265,\n",
       "       -54.51817571, -55.86079883, -57.00112716, -57.95021764,\n",
       "       -58.71661065, -59.30676258, -59.72534534, -59.97544768,\n",
       "       -60.05869957, -59.97544768, -59.72534534, -59.30676258,\n",
       "       -58.71661065, -57.95021764, -57.00112716, -55.86079883,\n",
       "       -54.51817571, -52.95906265, -51.16522425, -49.11304914,\n",
       "       -46.77151258, -44.0989456 , -41.03764792, -37.50430702,\n",
       "       -33.37144836, -28.42710197, -22.27100487, -13.96424004,\n",
       "         0.        ])"
      ]
     },
     "execution_count": 10,
     "metadata": {},
     "output_type": "execute_result"
    }
   ],
   "source": [
    "zetasol[1, 0]"
   ]
  },
  {
   "cell_type": "code",
   "execution_count": 27,
   "id": "771fc3b0-baf0-4caa-aff6-cda04c95a31e",
   "metadata": {},
   "outputs": [],
   "source": [
    "# space discretization\n",
    "nlay = 5\n",
    "ncol = 41\n",
    "delx = 50\n",
    "# time discretization\n",
    "delt = 2000\n",
    "nstep = 40\n",
    "hfini = np.zeros((nlay, ncol))\n",
    "hsini = np.zeros((nlay, ncol))\n",
    "# boundary conditions\n",
    "hleft = 0\n",
    "hright = 0\n",
    "# aquifer\n",
    "k = 10 # horizontal hydraulic conductivity, m/d\n",
    "S = 0.2 # storage coefficient, -\n",
    "Se = 1e-4 # specific storage coef, m^(-1)\n",
    "H = 100\n",
    "z = np.linspace(0, -H, nlay + 1)\n",
    "zt = z[:-1] # aquifer top, m\n",
    "zb = z[1:] # aquifer bottom, m\n",
    "rhof = 1000 # freshwater density, kg/m3\n",
    "rhos = 1025 # saltwater density, kg/m3\n",
    "# source\n",
    "N = 0.001\n",
    "Qf = [[0, icol, N * delx] for icol in np.arange(ncol)]\n",
    "# fixed\n",
    "fixed = [[0, 0, hleft], [0, ncol - 1, hright]]"
   ]
  },
  {
   "cell_type": "code",
   "execution_count": 28,
   "id": "dd0807e5-e06e-4607-83ff-f53d54bb8f16",
   "metadata": {},
   "outputs": [
    {
     "name": "stdout",
     "output_type": "stream",
     "text": [
      "iterations: 7\n"
     ]
    }
   ],
   "source": [
    "ml = SwiModel(nlay, ncol, delx, xleftc=-1000)\n",
    "ml.tdis(nstep=1, delt=1, hfini=hfini, hsini=hsini)\n",
    "ml.aquifer(k, S=0, Se=0, zb=zb, zt=zt, rhof=rhof, rhos=rhos) # zero storage means instantaneous steady state\n",
    "ml.set_source(Qf)\n",
    "ml.set_fixed(fixed, fixed)\n",
    "hsol2, zetasol2 = ml.simulate_freshonly()"
   ]
  },
  {
   "cell_type": "code",
   "execution_count": 29,
   "id": "7f2b58e5-197c-40b1-8945-740c03fa6aa2",
   "metadata": {},
   "outputs": [
    {
     "data": {
      "text/plain": [
       "[<matplotlib.lines.Line2D at 0x12a4573e0>]"
      ]
     },
     "execution_count": 29,
     "metadata": {},
     "output_type": "execute_result"
    },
    {
     "data": {
      "image/png": "[encoded data removed]",
      "text/plain": [
       "<Figure size 400x300 with 1 Axes>"
      ]
     },
     "metadata": {},
     "output_type": "display_data"
    }
   ],
   "source": [
    "for ilay in range(nlay):\n",
    "    plt.plot(zetasol2[1, ilay])\n",
    "plt.plot(zetasol[1, 0], 'k:')"
   ]
  },
  {
   "cell_type": "markdown",
   "id": "bf163e3f-f0bb-43fb-a2eb-312aa96e2d43",
   "metadata": {},
   "source": [
    "### Start pumping"
   ]
  },
  {
   "cell_type": "code",
   "execution_count": 38,
   "id": "e7a9deed-9d91-46eb-9782-2ae833dfd500",
   "metadata": {},
   "outputs": [],
   "source": [
    "Qfnew = [[0, icol, N * delx] for icol in np.arange(ncol)]\n",
    "Qfnew[20] = [0, 20, -12 * 0.05]"
   ]
  },
  {
   "cell_type": "code",
   "execution_count": 39,
   "id": "1edffc1f-e32d-4e3d-9329-f9e5b16f98c9",
   "metadata": {},
   "outputs": [
    {
     "name": "stdout",
     "output_type": "stream",
     "text": [
      "iterations: 4\n"
     ]
    }
   ],
   "source": [
    "ml = SwiModel(nlay, ncol, delx, xleftc=-1000)\n",
    "ml.tdis(nstep=1, delt=1, hfini=hsol2[-1], hsini=hsini)\n",
    "ml.aquifer(k, S=0, Se=0, zb=zb, zt=zt, rhof=rhof, rhos=rhos) # zero storage means instantaneous steady state\n",
    "ml.set_source(Qfnew)\n",
    "ml.set_fixed(fixed, fixed)\n",
    "hsol2, zetasol3 = ml.simulate_freshonly()"
   ]
  },
  {
   "cell_type": "code",
   "execution_count": 40,
   "id": "d485244c-57e1-4ad2-b2ef-4a2858257659",
   "metadata": {},
   "outputs": [
    {
     "data": {
      "image/png": "[encoded data removed]",
      "text/plain": [
       "<Figure size 400x300 with 1 Axes>"
      ]
     },
     "metadata": {},
     "output_type": "display_data"
    }
   ],
   "source": [
    "for ilay in range(nlay):\n",
    "    plt.plot(zetasol3[1, ilay])"
   ]
  },
  {
   "cell_type": "code",
   "execution_count": 31,
   "id": "05812d92-ff7b-408d-8a00-a6f7f49d03be",
   "metadata": {},
   "outputs": [
    {
     "data": {
      "text/plain": [
       "array([  0., -20., -40., -60., -80.])"
      ]
     },
     "execution_count": 31,
     "metadata": {},
     "output_type": "execute_result"
    }
   ],
   "source": [
    "zt.T"
   ]
  },
  {
   "cell_type": "code",
   "execution_count": 33,
   "id": "5fc02afd-e05f-48da-9c96-d1b53faf8c00",
   "metadata": {},
   "outputs": [
    {
     "data": {
      "text/plain": [
       "1"
      ]
     },
     "execution_count": 33,
     "metadata": {},
     "output_type": "execute_result"
    }
   ],
   "source": [
    "zt.ndim"
   ]
  },
  {
   "cell_type": "code",
   "execution_count": null,
   "id": "8f4af00e-2c6b-469c-8e75-ce8b8ed1615a",
   "metadata": {},
   "outputs": [],
   "source": []
  }
 ],
 "metadata": {
  "kernelspec": {
   "display_name": "Python 3 (ipykernel)",
   "language": "python",
   "name": "python3"
  },
  "language_info": {
   "codemirror_mode": {
    "name": "ipython",
    "version": 3
   },
   "file_extension": ".py",
   "mimetype": "text/x-python",
   "name": "python",
   "nbconvert_exporter": "python",
   "pygments_lexer": "ipython3",
   "version": "3.12.1"
  }
 },
 "nbformat": 4,
 "nbformat_minor": 5
}
